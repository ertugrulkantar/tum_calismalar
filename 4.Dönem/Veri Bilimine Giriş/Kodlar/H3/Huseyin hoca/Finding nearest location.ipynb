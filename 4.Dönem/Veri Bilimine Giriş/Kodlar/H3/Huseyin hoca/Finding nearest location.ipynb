{
 "cells": [
  {
   "attachments": {
    "1d33c503-3358-4887-af69-0d93a7b49ade.png": {
     "image/png": "[encoded data removed]"
    }
   },
   "cell_type": "markdown",
   "metadata": {},
   "source": [
    "## Problem: En yakın lokasyon uzaklığı bulma\n",
    "MxN boyutlarındaki bir koordinat sistemi üzerinde yer alan belirsiz sayıdaki lokasyonlara ilişkin lokasyon türü (H:hastane, L:lokanta, P:park v.b.), x koordinatı ve y koordinatı verileri “lokasyonlar.txt” isimli sıradan erişimli bir dosyada tutulmaktadır. Örnek bir dosya içeriği aşağıda verilmiştir:\n",
    "```\n",
    "P,1,1  \n",
    "H,1,8  \n",
    "L,2,5  \n",
    "L,2,6  \n",
    "L,7,5  \n",
    "P,8,9  \n",
    "```\n",
    "“lokasyonlar.txt” dosyasındaki verileri kullanarak, kullanıcının bu koordinat sistemi üzerinde\n",
    "* belirli bir türde kaç lokasyon bulunduğunu\n",
    "* bu türdeki lokasyonlardan kendisine en yakın olanının konumunu (x ve y koordinatlarını)\n",
    "* bu lokasyonun kendisine olan uzaklığını (öklit uzaklığı) \n",
    "\n",
    "öğrenmesini sağlayacak bir program/algoritma yazınız. \n",
    "\n",
    "\"lokasyonlar.txt\" dosyasındaki verilerin koordinat üzerinde yerleşimi:\n",
    "\n",
    "![konumlar.png](attachment:1d33c503-3358-4887-af69-0d93a7b49ade.png)"
   ]
  },
  {
   "cell_type": "markdown",
   "metadata": {},
   "source": [
    "### 1. \"lokasyonlar.txt\" dosyasını oku"
   ]
  },
  {
   "cell_type": "code",
   "execution_count": 26,
   "metadata": {
    "scrolled": true
   },
   "outputs": [],
   "source": [
    "import numpy as np"
   ]
  },
  {
   "cell_type": "code",
   "execution_count": 27,
   "metadata": {},
   "outputs": [
    {
     "name": "stdout",
     "output_type": "stream",
     "text": [
      "[['' '' '' '' '' '' '' '' '' '']\n",
      " ['' 'P' '' '' '' '' '' '' 'H' '']\n",
      " ['' '' '' '' '' 'L' 'L' '' '' '']\n",
      " ['' '' '' '' '' '' '' '' '' '']\n",
      " ['' '' '' '' '' '' '' '' '' '']\n",
      " ['' '' '' '' '' '' '' '' '' '']\n",
      " ['' '' '' '' '' '' '' '' '' '']\n",
      " ['' '' '' '' '' 'L' '' '' '' '']\n",
      " ['' '' '' '' '' '' '' '' '' 'P']\n",
      " ['' '' '' '' '' '' '' '' '' '']]\n"
     ]
    }
   ],
   "source": [
    "M,N = 10,10\n",
    "#a = # TODO: create an MxN array initialized with empty string (''). hint: use np.full()\n",
    "a=np.full((M,N),fill_value='')\n",
    "with open(\"lokasyonlar.txt\") as file:\n",
    "    for line in file:\n",
    "        tip, x, y = line.strip().split(\",\")\n",
    "        # TODO: assign location type to the corresponding coordinate of the array a\n",
    "        a[int(x),int(y)]=tip\n",
    "print(a)"
   ]
  },
  {
   "cell_type": "markdown",
   "metadata": {},
   "source": [
    "### 2. Kullanıcının bulunduğu konumu al"
   ]
  },
  {
   "cell_type": "code",
   "execution_count": 28,
   "metadata": {},
   "outputs": [
    {
     "name": "stdin",
     "output_type": "stream",
     "text": [
      "Bulunduğunuz konumun x ve y koordinatlarını giriniz:  4,2\n"
     ]
    }
   ],
   "source": [
    "x, y = input(\"Bulunduğunuz konumun x ve y koordinatlarını giriniz: \").split(\",\")\n",
    "x, y = int(x), int(y)\n",
    "#current = # TODO: create an np.array for current location\n",
    "current=np.array([x,y])"
   ]
  },
  {
   "cell_type": "code",
   "execution_count": 29,
   "metadata": {},
   "outputs": [
    {
     "data": {
      "text/plain": [
       "array([4, 2])"
      ]
     },
     "execution_count": 29,
     "metadata": {},
     "output_type": "execute_result"
    }
   ],
   "source": [
    "current"
   ]
  },
  {
   "cell_type": "markdown",
   "metadata": {},
   "source": [
    "### 3. Uzaklık hesaplayan fonksiyonu yaz\n",
    "* Fonksiyon, kullanıcının bulunduğu konum ile diğer belirli tipteki lokasyonların konumu arasındaki uzaklıkları bulmaktadır. \n",
    "* Fonksiyon parametreleri ndarray tipindedir.\n",
    "* `other_locs` ndarray'inin shape'i ```(X,2)``` şeklindedir.\n",
    "\n",
    "* Burada bi eksik var? Oklit mesafe hesabi formulu eksik ama zaten biliyorsun."
   ]
  },
  {
   "cell_type": "code",
   "execution_count": 30,
   "metadata": {},
   "outputs": [],
   "source": [
    "def distance(current_loc, other_locs):\n",
    "    #dists = # TODO: calculate euclidean distances between current user location and other locations\n",
    "    dists=np.sqrt(np.sum((other_locs-current_loc)**2,axis=1))\n",
    "    return dists"
   ]
  },
  {
   "cell_type": "markdown",
   "metadata": {},
   "source": [
    "yapilanlar: broadcasting ile other'daki tum degerlerden current i cikardi. Sonra bunlarin karelerini aldi. Sonra bunlarin satirlarda topladi. En son da karekokunu aldi."
   ]
  },
  {
   "cell_type": "markdown",
   "metadata": {},
   "source": [
    "### 4. İstenen bilgileri listele"
   ]
  },
  {
   "cell_type": "code",
   "execution_count": null,
   "metadata": {},
   "outputs": [
    {
     "name": "stdin",
     "output_type": "stream",
     "text": [
      "Bulmak istediğiniz lokasyon türünü giriniz (çıkış için Q/q):  P\n"
     ]
    },
    {
     "name": "stdout",
     "output_type": "stream",
     "text": [
      "P türü lokasyon sayısı: 2\n",
      "En yakın P türü lokasyonun konumu: [1 1]\n",
      "En yakın P türü lokasyonun kullanıcıya uzaklığı: 3.1622776601683795\n"
     ]
    }
   ],
   "source": [
    "location_type = input(\"Bulmak istediğiniz lokasyon türünü giriniz (çıkış için Q/q): \").upper()\n",
    "\n",
    "while location_type not in ['Q','q']:\n",
    "    #indices = # TODO: find all the coordinates of the given location type. hint: use np.argwhere() **Verilen lokasyon turune ait koordinantlari cek.\n",
    "    indices=np.argwhere(a==location_type) #?\n",
    "    print(location_type,\"türü lokasyon sayısı:\",indices.shape[0]) #veya len(indices) # TODO)\n",
    "    \n",
    "    distances = distance(current, indices)\n",
    "    min_index =np.argmin(distances) # TODO: find the index of the minimum distance \n",
    "    print(\"En yakın\",location_type,\"türü lokasyonun konumu:\",indices[min_index]) # TODO) **indices'te o ture ait mx2 lik koordinantlar var. min indexte bunun hangi satir oldugu var.\n",
    "    print(\"En yakın\",location_type,\"türü lokasyonun kullanıcıya uzaklığı:\",distances.min())# TODO)\n",
    "    \n",
    "    location_type = input(\"Bulmak istediğiniz lokasyon türünü giriniz (çıkış için Q/q): \")"
   ]
  },
  {
   "cell_type": "code",
   "execution_count": null,
   "metadata": {},
   "outputs": [],
   "source": []
  }
 ],
 "metadata": {
  "kernelspec": {
   "display_name": "Python 3",
   "language": "python",
   "name": "python3"
  },
  "language_info": {
   "codemirror_mode": {
    "name": "ipython",
    "version": 3
   },
   "file_extension": ".py",
   "mimetype": "text/x-python",
   "name": "python",
   "nbconvert_exporter": "python",
   "pygments_lexer": "ipython3",
   "version": "3.8.5"
  }
 },
 "nbformat": 4,
 "nbformat_minor": 4
}
