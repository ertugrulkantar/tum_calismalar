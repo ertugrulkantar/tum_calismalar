{
 "cells": [
  {
   "cell_type": "markdown",
   "metadata": {},
   "source": [
    "# Temel Sorular"
   ]
  },
  {
   "cell_type": "code",
   "execution_count": 1,
   "metadata": {},
   "outputs": [],
   "source": [
    "#Numpy kütüphanesini import edin\n",
    "import numpy as np"
   ]
  },
  {
   "cell_type": "markdown",
   "metadata": {},
   "source": [
    " 0 dan 8'e kadar 3x3 lük bir numpy matrisi oluşturunuz?"
   ]
  },
  {
   "cell_type": "code",
   "execution_count": 2,
   "metadata": {},
   "outputs": [
    {
     "data": {
      "text/plain": [
       "array([[0, 1, 2],\n",
       "       [3, 4, 5],\n",
       "       [6, 7, 8]])"
      ]
     },
     "execution_count": 2,
     "metadata": {},
     "output_type": "execute_result"
    }
   ],
   "source": [
    "# Z=\n",
    "Z=np.arange(9).reshape((3,3))\n",
    "Z"
   ]
  },
  {
   "cell_type": "code",
   "execution_count": 3,
   "metadata": {},
   "outputs": [
    {
     "data": {
      "text/plain": [
       "array([[1, 2, 3],\n",
       "       [4, 5, 6],\n",
       "       [7, 8, 9]])"
      ]
     },
     "execution_count": 3,
     "metadata": {},
     "output_type": "execute_result"
    }
   ],
   "source": [
    "#print (\" Matristeki her bir elemana bir ekleyin:\",...) \n",
    "Z+1"
   ]
  },
  {
   "cell_type": "code",
   "execution_count": 4,
   "metadata": {},
   "outputs": [
    {
     "data": {
      "text/plain": [
       "array([[-3, -2, -1],\n",
       "       [ 0,  1,  2],\n",
       "       [ 3,  4,  5]])"
      ]
     },
     "execution_count": 4,
     "metadata": {},
     "output_type": "execute_result"
    }
   ],
   "source": [
    "#print (\"Matristeki her bir elemandan 3 çıkartın :\",...) \n",
    "Z-3"
   ]
  },
  {
   "cell_type": "code",
   "execution_count": 5,
   "metadata": {},
   "outputs": [
    {
     "data": {
      "text/plain": [
       "array([[ 0,  1,  4],\n",
       "       [ 9, 16, 25],\n",
       "       [36, 49, 64]], dtype=int32)"
      ]
     },
     "execution_count": 5,
     "metadata": {},
     "output_type": "execute_result"
    }
   ],
   "source": [
    "#print (\"Her bir elemanın karesini bulun:\", ...)\n",
    "Z**2"
   ]
  },
  {
   "cell_type": "code",
   "execution_count": 6,
   "metadata": {},
   "outputs": [
    {
     "data": {
      "text/plain": [
       "8"
      ]
     },
     "execution_count": 6,
     "metadata": {},
     "output_type": "execute_result"
    }
   ],
   "source": [
    "#Matrisin en büyük elemanını bulun?\n",
    "np.max(Z)"
   ]
  },
  {
   "cell_type": "code",
   "execution_count": 13,
   "metadata": {},
   "outputs": [
    {
     "data": {
      "text/plain": [
       "array([2, 5, 8])"
      ]
     },
     "execution_count": 13,
     "metadata": {},
     "output_type": "execute_result"
    }
   ],
   "source": [
    "#Matristeki en büyük sütunu yazdırın\n",
    "Z.max(axis=1)"
   ]
  },
  {
   "cell_type": "code",
   "execution_count": 7,
   "metadata": {},
   "outputs": [
    {
     "data": {
      "text/plain": [
       "0"
      ]
     },
     "execution_count": 7,
     "metadata": {},
     "output_type": "execute_result"
    }
   ],
   "source": [
    "#Matrisin en küçük elemanını bulun?\n",
    "Z.min()"
   ]
  },
  {
   "cell_type": "code",
   "execution_count": 9,
   "metadata": {},
   "outputs": [
    {
     "data": {
      "text/plain": [
       "array([0, 1, 2])"
      ]
     },
     "execution_count": 9,
     "metadata": {},
     "output_type": "execute_result"
    }
   ],
   "source": [
    "#Matristeki en küçük satırı yazdırın?\n",
    "Z.min(axis=0)"
   ]
  },
  {
   "cell_type": "code",
   "execution_count": 8,
   "metadata": {},
   "outputs": [
    {
     "data": {
      "text/plain": [
       "array([[0, 3, 6],\n",
       "       [1, 4, 7],\n",
       "       [2, 5, 8]])"
      ]
     },
     "execution_count": 8,
     "metadata": {},
     "output_type": "execute_result"
    }
   ],
   "source": [
    "#Matrisin transpozunu alın? \n",
    "Z.T"
   ]
  },
  {
   "cell_type": "code",
   "execution_count": 10,
   "metadata": {},
   "outputs": [
    {
     "data": {
      "text/plain": [
       "array([[3, 4, 5],\n",
       "       [0, 1, 2],\n",
       "       [6, 7, 8]])"
      ]
     },
     "execution_count": 10,
     "metadata": {},
     "output_type": "execute_result"
    }
   ],
   "source": [
    "#Matrisin ilk iki satırının yerlerini değiştirin\n",
    "Z[[1,0,2]]"
   ]
  },
  {
   "cell_type": "code",
   "execution_count": 11,
   "metadata": {},
   "outputs": [
    {
     "data": {
      "text/plain": [
       "array([[ 0,  1,  2],\n",
       "       [ 3,  5,  7],\n",
       "       [ 9, 12, 15]], dtype=int32)"
      ]
     },
     "execution_count": 11,
     "metadata": {},
     "output_type": "execute_result"
    }
   ],
   "source": [
    "#Matristeki herbir satırın kümülatif toplamını bulun\n",
    "Z.cumsum(axis=0)"
   ]
  },
  {
   "cell_type": "code",
   "execution_count": 12,
   "metadata": {},
   "outputs": [
    {
     "data": {
      "text/plain": [
       "array([16, 25, 36, 49, 64], dtype=int32)"
      ]
     },
     "execution_count": 12,
     "metadata": {},
     "output_type": "execute_result"
    }
   ],
   "source": [
    "#Matriste üçten büyük olan elemanların karesini yazdırın\n",
    "Z[Z>3]**2"
   ]
  },
  {
   "cell_type": "code",
   "execution_count": 13,
   "metadata": {},
   "outputs": [
    {
     "data": {
      "text/plain": [
       "array([[2, 3],\n",
       "       [6, 7]])"
      ]
     },
     "execution_count": 13,
     "metadata": {},
     "output_type": "execute_result"
    }
   ],
   "source": [
    "a = np.array([[1,2,3,4],\n",
    "              [5,6,7,8],\n",
    "              [9,10,11,12]])\n",
    "a[:2,1:3]"
   ]
  },
  {
   "cell_type": "markdown",
   "metadata": {},
   "source": [
    "array([ [2, 3],\n",
    "\n",
    "     [6,7]])   sonucunu almak için diziyi nerden dilimlemek lazım"
   ]
  },
  {
   "cell_type": "markdown",
   "metadata": {},
   "source": [
    "# PROBLEMLER"
   ]
  },
  {
   "cell_type": "markdown",
   "metadata": {},
   "source": [
    "# SORU 1"
   ]
  },
  {
   "cell_type": "markdown",
   "metadata": {},
   "source": [
    "Yarıçapı ve yüksekliği 5 ila 25 cm arasında  değişen rastgele oluşturulacak 5 silindirik kap oluşturun.\n",
    "\n",
    "a) her bir kabın içerebileceği su hacmini,\n",
    "\n",
    "b) tüm kapların içerebileceği toplam su hacmini,\n",
    "\n",
    "c) hangi kabın en yüksek hacmi ve ne kadarını tutabileceğini,\n",
    "\n",
    "d) hangi kabın en az hacmi ve ne kadar tutabileceğini,\n",
    "\n",
    "e) kaplarda bulunabilecek su hacimlerinin ortalama, medyan ve standart sapması nedir?"
   ]
  },
  {
   "cell_type": "markdown",
   "metadata": {},
   "source": [
    "# Çözüm"
   ]
  },
  {
   "cell_type": "markdown",
   "metadata": {},
   "source": [
    "Öncelikle 2 adımlık bir işlem gereklidir.İlk adımda 10 adet rastgele integer sayı üretilmesi beklenmektedir. Daha sonra bu üretilen değerlerin tipi , boyutu, eleman sayısdı gibi özelliklere bakılacaktır. İkinci adımda ise 5 adet silindir üretmek için 2 boyutlu bir matris oluşturulması beklenmektedir."
   ]
  },
  {
   "cell_type": "markdown",
   "metadata": {},
   "source": [
    "## 1-adım) alt sınırı 5 üst sınırı 25 olan 10 rastgele integer sayı oluşturun"
   ]
  },
  {
   "cell_type": "code",
   "execution_count": 14,
   "metadata": {},
   "outputs": [],
   "source": [
    "#değişkenler\n",
    "no_of_items =10\n",
    "lower_limit = 5\n",
    "upper_limit = 25"
   ]
  },
  {
   "cell_type": "markdown",
   "metadata": {},
   "source": [
    "Not:Öğe sayısı 10'dur çünkü beş kabın her biri için 2 değere ihtiyacımız vardır - biri yarıçap için diğeri yükseklik için."
   ]
  },
  {
   "cell_type": "code",
   "execution_count": 15,
   "metadata": {},
   "outputs": [],
   "source": [
    "np.random.seed(0)\n",
    "values = np.random.randint(lower_limit,upper_limit,no_of_items)"
   ]
  },
  {
   "cell_type": "code",
   "execution_count": 16,
   "metadata": {},
   "outputs": [
    {
     "data": {
      "text/plain": [
       "array([17, 20,  5,  8,  8, 12, 14, 24, 23,  9])"
      ]
     },
     "execution_count": 16,
     "metadata": {},
     "output_type": "execute_result"
    }
   ],
   "source": [
    "#print (values)\n",
    "values"
   ]
  },
  {
   "cell_type": "markdown",
   "metadata": {},
   "source": [
    "1D(tek boyutlu dizi elde edilmiş oldu ) Şimdi, dizide aslında 10 öğe olduğunu doğrulamak için, dizinin uzunluğu olan 10 değerini döndüren valu.size öğesini kullanabiliriz. Listede ne tür değerlerin bulunduğunu bulmak için, dizinin tamsayı sayıları içerdiğini belirten dtype ('int64') döndürecek olan değer.dtype'yi kullanabilirsiniz."
   ]
  },
  {
   "cell_type": "markdown",
   "metadata": {},
   "source": [
    "## oluşturulan dizinin kaç boyutlu olduğunu yazın"
   ]
  },
  {
   "cell_type": "code",
   "execution_count": 17,
   "metadata": {},
   "outputs": [
    {
     "data": {
      "text/plain": [
       "1"
      ]
     },
     "execution_count": 17,
     "metadata": {},
     "output_type": "execute_result"
    }
   ],
   "source": [
    "# ...\n",
    "values.ndim"
   ]
  },
  {
   "cell_type": "markdown",
   "metadata": {},
   "source": [
    "## oluşturulan dizinin eleman sayısını bulun"
   ]
  },
  {
   "cell_type": "code",
   "execution_count": 18,
   "metadata": {},
   "outputs": [
    {
     "data": {
      "text/plain": [
       "10"
      ]
     },
     "execution_count": 18,
     "metadata": {},
     "output_type": "execute_result"
    }
   ],
   "source": [
    "#...\n",
    "values.size"
   ]
  },
  {
   "cell_type": "markdown",
   "metadata": {},
   "source": [
    "## oluşturulan dizinin eleman tipini bulun"
   ]
  },
  {
   "cell_type": "code",
   "execution_count": 19,
   "metadata": {},
   "outputs": [
    {
     "data": {
      "text/plain": [
       "dtype('int32')"
      ]
     },
     "execution_count": 19,
     "metadata": {},
     "output_type": "execute_result"
    }
   ],
   "source": [
    "#...\n",
    "values.dtype"
   ]
  },
  {
   "cell_type": "markdown",
   "metadata": {},
   "source": [
    "## oluşturulan dizinin satır sütun sayısını bulun"
   ]
  },
  {
   "cell_type": "code",
   "execution_count": 20,
   "metadata": {},
   "outputs": [
    {
     "data": {
      "text/plain": [
       "(10,)"
      ]
     },
     "execution_count": 20,
     "metadata": {},
     "output_type": "execute_result"
    }
   ],
   "source": [
    "#...\n",
    "values.shape"
   ]
  },
  {
   "cell_type": "markdown",
   "metadata": {},
   "source": [
    "Yani, silindirler için yarıçap ve yüksekliklere ihtiyacımız var, ama şu anda elimizde sadece bir sayı dizisi var. Numaraları her silindir için birer tane olacak şekilde çiftler halinde görünecek şekilde yeniden düzenleyelim. Bunun için yeniden şekillendirme yöntemini kullanıyoruz."
   ]
  },
  {
   "cell_type": "markdown",
   "metadata": {},
   "source": [
    "## 5 adet silindir için diziyi 2D(iki boyutlu ) olarak ayarlayın "
   ]
  },
  {
   "cell_type": "code",
   "execution_count": 21,
   "metadata": {},
   "outputs": [
    {
     "data": {
      "text/plain": [
       "array([[17, 20],\n",
       "       [ 5,  8],\n",
       "       [ 8, 12],\n",
       "       [14, 24],\n",
       "       [23,  9]])"
      ]
     },
     "execution_count": 21,
     "metadata": {},
     "output_type": "execute_result"
    }
   ],
   "source": [
    "#diziyi satır sayısı 5 sütun sayısı 2 olacak şekilde tekrar ayarlayın. \n",
    "no_of_rows =5 \n",
    "no_of_columns =2 \n",
    "#containers =...\n",
    "containers=values.reshape(no_of_rows,no_of_columns)\n",
    "containers"
   ]
  },
  {
   "cell_type": "code",
   "execution_count": 26,
   "metadata": {},
   "outputs": [],
   "source": [
    "# print(containers)"
   ]
  },
  {
   "cell_type": "markdown",
   "metadata": {},
   "source": [
    "## yeni oluşturulan dizinin boyutunu yazdırın"
   ]
  },
  {
   "cell_type": "code",
   "execution_count": 22,
   "metadata": {},
   "outputs": [
    {
     "data": {
      "text/plain": [
       "2"
      ]
     },
     "execution_count": 22,
     "metadata": {},
     "output_type": "execute_result"
    }
   ],
   "source": [
    "#\n",
    "containers.ndim"
   ]
  },
  {
   "cell_type": "markdown",
   "metadata": {},
   "source": [
    "## yeni oluşturulan dizinin satır sütun sayısını yazdırın"
   ]
  },
  {
   "cell_type": "code",
   "execution_count": 23,
   "metadata": {},
   "outputs": [
    {
     "data": {
      "text/plain": [
       "(5, 2)"
      ]
     },
     "execution_count": 23,
     "metadata": {},
     "output_type": "execute_result"
    }
   ],
   "source": [
    "#\n",
    "containers.shape"
   ]
  },
  {
   "cell_type": "markdown",
   "metadata": {},
   "source": [
    "## Dizideki ilk sütunu yarıçap ikinci sütunu yükseklik olacak şekilde dilimleyin?"
   ]
  },
  {
   "cell_type": "code",
   "execution_count": 24,
   "metadata": {},
   "outputs": [
    {
     "data": {
      "text/plain": [
       "array([17,  5,  8, 14, 23])"
      ]
     },
     "execution_count": 24,
     "metadata": {},
     "output_type": "execute_result"
    }
   ],
   "source": [
    "#radius = containers[...]\n",
    "radius=containers[:,0]\n",
    "radius"
   ]
  },
  {
   "cell_type": "code",
   "execution_count": 25,
   "metadata": {},
   "outputs": [
    {
     "data": {
      "text/plain": [
       "array([20,  8, 12, 24,  9])"
      ]
     },
     "execution_count": 25,
     "metadata": {},
     "output_type": "execute_result"
    }
   ],
   "source": [
    "#height = containers[...]\n",
    "height=containers[:,1]\n",
    "height"
   ]
  },
  {
   "cell_type": "code",
   "execution_count": 32,
   "metadata": {},
   "outputs": [],
   "source": [
    "#height"
   ]
  },
  {
   "cell_type": "markdown",
   "metadata": {},
   "source": [
    "## \\begin{equation*} \n",
    "\\text{silindirin hacmi:} \n",
    "\\pi r^2h\n",
    "\\ \n",
    "\\end{equation*}"
   ]
  },
  {
   "cell_type": "markdown",
   "metadata": {},
   "source": [
    "## a-Tüm silindirlerin hacmini hesaplayın"
   ]
  },
  {
   "cell_type": "code",
   "execution_count": 26,
   "metadata": {},
   "outputs": [],
   "source": [
    "volume=np.pi*(radius**2)*height"
   ]
  },
  {
   "cell_type": "code",
   "execution_count": 27,
   "metadata": {},
   "outputs": [
    {
     "data": {
      "text/plain": [
       "array([18158.40553775,   628.31853072,  2412.74315796, 14778.05184249,\n",
       "       14957.12262374])"
      ]
     },
     "execution_count": 27,
     "metadata": {},
     "output_type": "execute_result"
    }
   ],
   "source": [
    "volume"
   ]
  },
  {
   "cell_type": "markdown",
   "metadata": {},
   "source": [
    "## b-tüm silindirlerde bulunan suyun toplam hacmini bulun?"
   ]
  },
  {
   "cell_type": "code",
   "execution_count": 28,
   "metadata": {},
   "outputs": [],
   "source": [
    "total_volume =np.sum(volume)"
   ]
  },
  {
   "cell_type": "code",
   "execution_count": 29,
   "metadata": {},
   "outputs": [
    {
     "data": {
      "text/plain": [
       "50934.64169265132"
      ]
     },
     "execution_count": 29,
     "metadata": {},
     "output_type": "execute_result"
    }
   ],
   "source": [
    "total_volume"
   ]
  },
  {
   "cell_type": "markdown",
   "metadata": {},
   "source": [
    "## Toplam hacim,  silindirlerin tek tek hacimlerini hesaplamadan alternatif bir şekilde de hesaplanabilir. Bunu yapmanın yolu yarıçap ve yüksekliğin nokta çarpımını hesaplamaktır. Alternatif yolu yazın"
   ]
  },
  {
   "cell_type": "code",
   "execution_count": 30,
   "metadata": {},
   "outputs": [],
   "source": [
    "radius_squared =np.square(radius)\n",
    "dot_product = np.dot(radius_squared,height)\n",
    "total_volume_by_dot_product =np.pi*dot_product"
   ]
  },
  {
   "cell_type": "code",
   "execution_count": 31,
   "metadata": {},
   "outputs": [
    {
     "name": "stdout",
     "output_type": "stream",
     "text": [
      "50934.64169265132\n"
     ]
    }
   ],
   "source": [
    "print(total_volume_by_dot_product)"
   ]
  },
  {
   "cell_type": "markdown",
   "metadata": {},
   "source": [
    "## c-Hangi silindirin maksimum su hacmini tutabildiğini ve indeksini bulun?"
   ]
  },
  {
   "cell_type": "code",
   "execution_count": 32,
   "metadata": {},
   "outputs": [
    {
     "data": {
      "text/plain": [
       "18158.405537749004"
      ]
     },
     "execution_count": 32,
     "metadata": {},
     "output_type": "execute_result"
    }
   ],
   "source": [
    "max_volume =np.max(volume)\n",
    "max_volume"
   ]
  },
  {
   "cell_type": "code",
   "execution_count": 33,
   "metadata": {},
   "outputs": [
    {
     "data": {
      "text/plain": [
       "0"
      ]
     },
     "execution_count": 33,
     "metadata": {},
     "output_type": "execute_result"
    }
   ],
   "source": [
    "index_of_max_volume =volume.argmax()\n",
    "index_of_max_volume"
   ]
  },
  {
   "cell_type": "markdown",
   "metadata": {},
   "source": [
    "## d-Hangi silindirin minimum su hacmini tutabildiğini ve indeksini bulun?"
   ]
  },
  {
   "cell_type": "code",
   "execution_count": 34,
   "metadata": {},
   "outputs": [
    {
     "data": {
      "text/plain": [
       "628.3185307179587"
      ]
     },
     "execution_count": 34,
     "metadata": {},
     "output_type": "execute_result"
    }
   ],
   "source": [
    "min_volume =volume.min()\n",
    "min_volume"
   ]
  },
  {
   "cell_type": "code",
   "execution_count": 35,
   "metadata": {},
   "outputs": [
    {
     "data": {
      "text/plain": [
       "1"
      ]
     },
     "execution_count": 35,
     "metadata": {},
     "output_type": "execute_result"
    }
   ],
   "source": [
    "index_of_min_volume =volume.argmin()\n",
    "index_of_min_volume"
   ]
  },
  {
   "cell_type": "code",
   "execution_count": 48,
   "metadata": {},
   "outputs": [],
   "source": [
    "#print(index_of_min_volume)"
   ]
  },
  {
   "cell_type": "markdown",
   "metadata": {},
   "source": [
    "## e-Son olarak, silindirlerin hacimlerinin ortalama, medyan ve standart sapmasını hesaplayabiliriz."
   ]
  },
  {
   "cell_type": "code",
   "execution_count": 36,
   "metadata": {},
   "outputs": [
    {
     "data": {
      "text/plain": [
       "10186.928338530264"
      ]
     },
     "execution_count": 36,
     "metadata": {},
     "output_type": "execute_result"
    }
   ],
   "source": [
    "volume_mean =np.mean(volume)\n",
    "volume_mean"
   ]
  },
  {
   "cell_type": "code",
   "execution_count": 37,
   "metadata": {},
   "outputs": [
    {
     "data": {
      "text/plain": [
       "14778.051842486386"
      ]
     },
     "execution_count": 37,
     "metadata": {},
     "output_type": "execute_result"
    }
   ],
   "source": [
    "volume_median =np.median(volume)\n",
    "volume_median"
   ]
  },
  {
   "cell_type": "code",
   "execution_count": 38,
   "metadata": {},
   "outputs": [
    {
     "data": {
      "text/plain": [
       "7199.758245451731"
      ]
     },
     "execution_count": 38,
     "metadata": {},
     "output_type": "execute_result"
    }
   ],
   "source": [
    "volume_standard_deviation =np.std(volume)\n",
    "volume_standard_deviation"
   ]
  },
  {
   "cell_type": "code",
   "execution_count": 46,
   "metadata": {},
   "outputs": [],
   "source": [
    "#volume_mean"
   ]
  },
  {
   "cell_type": "code",
   "execution_count": 45,
   "metadata": {},
   "outputs": [],
   "source": [
    "#volume_median"
   ]
  },
  {
   "cell_type": "code",
   "execution_count": 44,
   "metadata": {},
   "outputs": [],
   "source": [
    "#volume_standard_deviation"
   ]
  },
  {
   "cell_type": "markdown",
   "metadata": {},
   "source": [
    "\n",
    "# SORU 2"
   ]
  },
  {
   "cell_type": "markdown",
   "metadata": {},
   "source": [
    "Boy_listesi ve pozisyon_listesi listeleri verilen futbolcularla ilgili aşağıdaki boşlukları doldurunuz "
   ]
  },
  {
   "cell_type": "code",
   "execution_count": 39,
   "metadata": {},
   "outputs": [],
   "source": [
    "boy_listesi = [198, 187, 184, 179, 180, 184, 195, 177, 182, 186, 185, 170, 187, 183, 173]\n",
    "pozisyon_listesi = ['K','F', 'O', 'O', 'D','F', 'K', 'O', 'F', 'D', 'D','F', 'O', 'D', 'O']"
   ]
  },
  {
   "cell_type": "code",
   "execution_count": 40,
   "metadata": {},
   "outputs": [],
   "source": [
    "#Boy listesini  np_boy_dizisi ve poziyon listesini np_pozisyon_dizisi adlı numpy dizilere atayın.\n",
    "np_boy_dizisi =np.array(boy_listesi)\n",
    "np_pozisyon_dizisi =np.array(pozisyon_listesi)"
   ]
  },
  {
   "cell_type": "code",
   "execution_count": 41,
   "metadata": {},
   "outputs": [
    {
     "data": {
      "text/plain": [
       "array([198, 195])"
      ]
     },
     "execution_count": 41,
     "metadata": {},
     "output_type": "execute_result"
    }
   ],
   "source": [
    "# Yalnız kalecilerin boylarının olduğu bir dizi oluşturun ve yazdırın.\n",
    "#print(...)\n",
    "k_boylar=np_boy_dizisi[np_pozisyon_dizisi==\"K\"]\n",
    "k_boylar"
   ]
  },
  {
   "cell_type": "code",
   "execution_count": 42,
   "metadata": {},
   "outputs": [
    {
     "data": {
      "text/plain": [
       "array([187, 184, 179, 180, 184, 177, 182, 186, 185, 170, 187, 183, 173])"
      ]
     },
     "execution_count": 42,
     "metadata": {},
     "output_type": "execute_result"
    }
   ],
   "source": [
    "#Diğer oyuncuların boylarının olduğu bir liste oluşturalım.\n",
    "#...\n",
    "#print(...)\n",
    "diger_boylar=np_boy_dizisi[np_pozisyon_dizisi!=\"K\"]\n",
    "diger_boylar"
   ]
  },
  {
   "cell_type": "code",
   "execution_count": 43,
   "metadata": {},
   "outputs": [
    {
     "data": {
      "text/plain": [
       "196.5"
      ]
     },
     "execution_count": 43,
     "metadata": {},
     "output_type": "execute_result"
    }
   ],
   "source": [
    "#Kalecilerin boy ortalamasını yazdırın.\n",
    "#print(...)\n",
    "np.mean(k_boylar)"
   ]
  },
  {
   "cell_type": "code",
   "execution_count": 44,
   "metadata": {},
   "outputs": [
    {
     "data": {
      "text/plain": [
       "181.30769230769232"
      ]
     },
     "execution_count": 44,
     "metadata": {},
     "output_type": "execute_result"
    }
   ],
   "source": [
    "#Diğer oyuncuların boy ortalamasını yazdıralım.\n",
    "#print(...)\n",
    "np.mean(diger_boylar)"
   ]
  },
  {
   "cell_type": "markdown",
   "metadata": {},
   "source": [
    "# SORU 3"
   ]
  },
  {
   "cell_type": "markdown",
   "metadata": {},
   "source": [
    "İnç cinsinden verilen boy uzunluklardan oluşan bir uzunluk listesi ve pound cinsinden verilen ağırlık listesi ile ilgili BMİ (Boy kilo endeksini) hesaplayınız?.\n",
    "inç cinsini metreye metre çevirmek için 0.0254\n",
    "pound cinsini kg olarak ile hesaplamak için 0.453592 çarpın"
   ]
  },
  {
   "cell_type": "code",
   "execution_count": 45,
   "metadata": {},
   "outputs": [],
   "source": [
    "\n",
    "uzunluklar = [79.13385826771654, 72.83464566929134, 70.86614173228347, 73.22834645669292, 74.01574803149607, 75.59055118110236, 71.65354330708662, 72.04724409448819]\n",
    "agirliklar = [185.82544665690753, 178.57457803488597, 174.16532919451842, 189.59770013580487, 205.03007107709132, 191.80232455598863, 171.96070477433466, 153.5514559339671]"
   ]
  },
  {
   "cell_type": "code",
   "execution_count": 46,
   "metadata": {},
   "outputs": [
    {
     "data": {
      "text/plain": [
       "array([2.01, 1.85, 1.8 , 1.86, 1.88, 1.92, 1.82, 1.83])"
      ]
     },
     "execution_count": 46,
     "metadata": {},
     "output_type": "execute_result"
    }
   ],
   "source": [
    "#np_uzunluklar dizisindeki değerleri metreye çevirip, np_uzunluklar_m isimli diziye alalım.\n",
    "np_uzunluklar_m =np.array(uzunluklar)*0.0254\n",
    "#print(...)\n",
    "np_uzunluklar_m"
   ]
  },
  {
   "cell_type": "code",
   "execution_count": 47,
   "metadata": {},
   "outputs": [
    {
     "data": {
      "text/plain": [
       "array([84.288936, 81.      , 79.      , 86.      , 93.      , 87.      ,\n",
       "       78.      , 69.649712])"
      ]
     },
     "execution_count": 47,
     "metadata": {},
     "output_type": "execute_result"
    }
   ],
   "source": [
    "#np_agirliklar dizisindeki değerleri kiloya çevirip, np_agirliklar_kg isimli diziye alalım.\n",
    "np_agirliklar_kg =np.array(agirliklar)*0.453592\n",
    "#print(...)\n",
    "np_agirliklar_kg"
   ]
  },
  {
   "cell_type": "code",
   "execution_count": 48,
   "metadata": {},
   "outputs": [
    {
     "data": {
      "text/plain": [
       "array([20.86308161, 23.66691015, 24.38271605, 24.85836513, 26.31281123,\n",
       "       23.60026042, 23.54788069, 20.79778793])"
      ]
     },
     "execution_count": 48,
     "metadata": {},
     "output_type": "execute_result"
    }
   ],
   "source": [
    "#Oyuncuların BMI değerlerini hesaplayın\n",
    "#...\n",
    "bmi=np_agirliklar_kg/(np_uzunluklar_m)**2\n",
    "bmi"
   ]
  },
  {
   "cell_type": "code",
   "execution_count": 49,
   "metadata": {},
   "outputs": [
    {
     "data": {
      "text/plain": [
       "array([20.86308161, 20.79778793])"
      ]
     },
     "execution_count": 49,
     "metadata": {},
     "output_type": "execute_result"
    }
   ],
   "source": [
    "#bmi değeri 21'in altında olan oyunculardan oluşan bir hafif dizisi oluşturun ve yazdırın.\n",
    "hafif=bmi[bmi<21]\n",
    "#print(...)\n",
    "hafif"
   ]
  },
  {
   "cell_type": "code",
   "execution_count": 50,
   "metadata": {},
   "outputs": [
    {
     "data": {
      "text/plain": [
       "86.0"
      ]
     },
     "execution_count": 50,
     "metadata": {},
     "output_type": "execute_result"
    }
   ],
   "source": [
    "#np_agirliklar_kg dizisinin 3 numaralı indeksindeki veriyi yazdırın.\n",
    "#print(...)\n",
    "np_agirliklar_kg[3]"
   ]
  },
  {
   "cell_type": "code",
   "execution_count": 53,
   "metadata": {},
   "outputs": [
    {
     "data": {
      "text/plain": [
       "array([86., 93., 87., 78.])"
      ]
     },
     "execution_count": 53,
     "metadata": {},
     "output_type": "execute_result"
    }
   ],
   "source": [
    "#np_agirliklar_kg dizisinin 3. indekten 6. indekse kadar olan verileri yazdıralım(6 dahil).\n",
    "#print(...)\n",
    "np_agirliklar_kg[3:7]"
   ]
  },
  {
   "cell_type": "code",
   "execution_count": null,
   "metadata": {},
   "outputs": [],
   "source": []
  }
 ],
 "metadata": {
  "kernelspec": {
   "display_name": "Python 3",
   "language": "python",
   "name": "python3"
  },
  "language_info": {
   "codemirror_mode": {
    "name": "ipython",
    "version": 3
   },
   "file_extension": ".py",
   "mimetype": "text/x-python",
   "name": "python",
   "nbconvert_exporter": "python",
   "pygments_lexer": "ipython3",
   "version": "3.8.5"
  }
 },
 "nbformat": 4,
 "nbformat_minor": 4
}
